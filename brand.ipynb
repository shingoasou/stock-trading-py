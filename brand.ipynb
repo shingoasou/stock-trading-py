{
 "cells": [
  {
   "cell_type": "code",
   "execution_count": 76,
   "metadata": {},
   "outputs": [
    {
     "data": {
      "text/plain": [
       "('1301', '極洋', '極洋', '東証１', '水産・農林業', 100)"
      ]
     },
     "execution_count": 76,
     "metadata": {},
     "output_type": "execute_result"
    }
   ],
   "source": [
    "from pyquery import PyQuery\n",
    "import re\n",
    "import time\n",
    "import sqlite3\n",
    "\n",
    "\n",
    "def get_brand(code):\n",
    "    url = \"https://kabutan.jp/stock/?code={}\".format(code)\n",
    "    \n",
    "    q = PyQuery(url)\n",
    "    if len(q.find('#kobetsu_right')('span')) == 0:\n",
    "        return None\n",
    "    \n",
    "    try:\n",
    "        code = q('#stockinfo_b0')('h2')('span').text()\n",
    "        name = q('#kobetsu_right')('h3').text()\n",
    "        short_name = q('#stockinfo_b0')('h2').text()[4:]\n",
    "        market = q('#stockinfo_b0')('span.market').text()\n",
    "        sector = q('#stockinfo_i2')('a').text()\n",
    "        unit_str = q('#stockinfo_i2')('dd').text()\n",
    "        unit = int(re.sub(\"\\\\D\", \"\", unit_str))\n",
    "    except ValueError:\n",
    "        return None\n",
    "    \n",
    "    return code, name, short_name, market, sector, unit\n",
    "\n",
    "def brands_generator(code_range):\n",
    "    for code in code_range:\n",
    "        brand = get_brand(code)\n",
    "        if brand:\n",
    "            yield brand\n",
    "        time.sleep(1)\n",
    "\n",
    "def insert_brands_to_db(db_file_name, code_range):\n",
    "    conn = sqlite3.connect(db_file_name)\n",
    "    with conn:\n",
    "        sql = 'INSERT INTO brands(code, name, short_name, market, sector, unit)' \\\n",
    "                 'VALUES(?, ?, ?, ?, ?, ?)'\n",
    "        conn.executemany(sql, brands_generator(code_range))\n",
    "\n",
    "# example\n",
    "get_brand(1301)"
   ]
  },
  {
   "cell_type": "code",
   "execution_count": null,
   "metadata": {},
   "outputs": [],
   "source": []
  },
  {
   "cell_type": "code",
   "execution_count": null,
   "metadata": {},
   "outputs": [],
   "source": []
  }
 ],
 "metadata": {
  "kernelspec": {
   "display_name": "Python 3",
   "language": "python",
   "name": "python3"
  },
  "language_info": {
   "codemirror_mode": {
    "name": "ipython",
    "version": 3
   },
   "file_extension": ".py",
   "mimetype": "text/x-python",
   "name": "python",
   "nbconvert_exporter": "python",
   "pygments_lexer": "ipython3",
   "version": "3.7.4"
  }
 },
 "nbformat": 4,
 "nbformat_minor": 2
}
